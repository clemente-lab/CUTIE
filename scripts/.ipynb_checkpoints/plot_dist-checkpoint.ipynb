{
 "cells": [
  {
   "cell_type": "code",
   "execution_count": 1,
   "metadata": {
    "collapsed": false
   },
   "outputs": [],
   "source": [
    "import pandas as pd\n",
    "import os.path\n",
    "import numpy as np\n",
    "import PIL\n",
    "from PIL import Image"
   ]
  },
  {
   "cell_type": "code",
   "execution_count": 2,
   "metadata": {
    "collapsed": false
   },
   "outputs": [
    {
     "data": {
      "text/html": [
       "<div>\n",
       "<style scoped>\n",
       "    .dataframe tbody tr th:only-of-type {\n",
       "        vertical-align: middle;\n",
       "    }\n",
       "\n",
       "    .dataframe tbody tr th {\n",
       "        vertical-align: top;\n",
       "    }\n",
       "\n",
       "    .dataframe thead th {\n",
       "        text-align: right;\n",
       "    }\n",
       "</style>\n",
       "<table border=\"1\" class=\"dataframe\">\n",
       "  <thead>\n",
       "    <tr style=\"text-align: right;\">\n",
       "      <th></th>\n",
       "      <th>statistic</th>\n",
       "      <th>cutie</th>\n",
       "      <th>jackknifing</th>\n",
       "      <th>bootstrapping</th>\n",
       "      <th>cooks_d</th>\n",
       "    </tr>\n",
       "  </thead>\n",
       "  <tbody>\n",
       "    <tr>\n",
       "      <th>0</th>\n",
       "      <td>pearson</td>\n",
       "      <td>kpc</td>\n",
       "      <td>jkp</td>\n",
       "      <td>bsp</td>\n",
       "      <td>pointwise_kpc</td>\n",
       "    </tr>\n",
       "    <tr>\n",
       "      <th>1</th>\n",
       "      <td>spearman</td>\n",
       "      <td>ksc</td>\n",
       "      <td>jks</td>\n",
       "      <td>bss</td>\n",
       "      <td>pointwise_ksc</td>\n",
       "    </tr>\n",
       "    <tr>\n",
       "      <th>2</th>\n",
       "      <td>kendall</td>\n",
       "      <td>kkc</td>\n",
       "      <td>jkk</td>\n",
       "      <td>bsk</td>\n",
       "      <td>pointwise_kkc</td>\n",
       "    </tr>\n",
       "    <tr>\n",
       "      <th>3</th>\n",
       "      <td>mine</td>\n",
       "      <td>mine</td>\n",
       "      <td>jkm</td>\n",
       "      <td>bsm</td>\n",
       "      <td>pointwise_mine</td>\n",
       "    </tr>\n",
       "  </tbody>\n",
       "</table>\n",
       "</div>"
      ],
      "text/plain": [
       "  statistic cutie jackknifing bootstrapping         cooks_d\n",
       "0   pearson   kpc         jkp           bsp   pointwise_kpc\n",
       "1  spearman   ksc         jks           bss   pointwise_ksc\n",
       "2   kendall   kkc         jkk           bsk   pointwise_kkc\n",
       "3      mine  mine         jkm           bsm  pointwise_mine"
      ]
     },
     "execution_count": 2,
     "metadata": {},
     "output_type": "execute_result"
    }
   ],
   "source": [
    "os.chdir('/Users/KevinBu/Desktop/clemente_lab/CUTIE/')\n",
    "stat_df = pd.read_csv('scripts/stat_dict.txt', sep = '\\t')\n",
    "rev_stat_df = pd.read_csv('scripts/rev_stat_dict.txt', sep = '\\t')\n",
    "stat_df.head()"
   ]
  },
  {
   "cell_type": "code",
   "execution_count": 4,
   "metadata": {
    "collapsed": true
   },
   "outputs": [],
   "source": [
    "def create_img(dist, subset_df, rev_subset_df, method):\n",
    "    # define image names\n",
    "    spacer = np.ones(shape=[480,640,4]) * 255\n",
    "    if method == 'cooks_d':\n",
    "        for_img_list = [\"true_corr_['cookd']_FP_1.png\", \"true_corr_['cookd']_TP_1.png\",\n",
    "                        \"sample_corr_['cookd']_FP_1.png\", \"sample_corr_['cookd']_TP_1.png\"]\n",
    "        \n",
    "        for_dir_path = '../Submissions/CUtIe/final_data_fixed/' + dist + '_' + subset_df[method] + '1fdr0.05/graphs/'\n",
    "        for_list = [for_dir_path + x for x in for_img_list] # FP, TP, FP, TP\n",
    "\n",
    "        # order images\n",
    "        true_imgs = [for_list[1], for_list[0]]\n",
    "        sample_imgs = [for_list[3], for_list[2]]\n",
    "        \n",
    "        opened_true_imgs = []\n",
    "        for i in true_imgs:\n",
    "            try:\n",
    "                opened_true_imgs.append(np.asarray(PIL.Image.open(i)))\n",
    "            except:\n",
    "                opened_true_imgs.append(spacer)\n",
    "                print(i)\n",
    "        \n",
    "        # true_imgs = [PIL.Image.open(i) for i in true_imgs]\n",
    "        opened_sample_imgs = []\n",
    "        for i in sample_imgs:\n",
    "            try:\n",
    "                opened_sample_imgs.append(np.asarray(PIL.Image.open(i)))\n",
    "            except:\n",
    "                opened_sample_imgs.append(spacer)\n",
    "                print(i)\n",
    "        \n",
    "        # sample_imgs = [PIL.Image.open(i) for i in sample_imgs]\n",
    "        \n",
    "        opened_true_imgs.extend([spacer, spacer])\n",
    "        opened_sample_imgs.extend([spacer, spacer])\n",
    "        \n",
    "        true_imgs_comb = np.hstack(opened_true_imgs)\n",
    "        sample_imgs_comb = np.hstack(opened_sample_imgs)\n",
    "    \n",
    "        \n",
    "    else:\n",
    "        for_img_list = ['true_corr_false_corr_FP_1.png', 'true_corr_true_corr_TP_1.png', \n",
    "                     'sample_corr_false_corr_FP_1.png', 'sample_corr_true_corr_TP_1.png']\n",
    "\n",
    "        rev_img_list = ['true_corr_false_corr_TN_1.png', 'true_corr_true_corr_FN_1.png', \n",
    "                     'sample_corr_false_corr_TN_1.png', 'sample_corr_true_corr_FN_1.png']\n",
    "\n",
    "        for_dir_path = '../Submissions/CUtIe/final_data_analysis/' + dist + '_' + subset_df[method] + '1fdr0.05/graphs/'\n",
    "        rev_dir_path = '../Submissions/CUtIe/final_data_analysis/' + dist + '_' + rev_subset_df[method] + '1fdr0.05/graphs/'\n",
    "\n",
    "        rev_list = [rev_dir_path + x for x in rev_img_list] # TN, FN, TN, FN\n",
    "        for_list = [for_dir_path + x for x in for_img_list] # FP, TP, FP, TP\n",
    "\n",
    "        true_imgs = [for_list[1], for_list[0], rev_list[0], rev_list[1]]\n",
    "        sample_imgs = [for_list[3], for_list[2], rev_list[2], rev_list[3]]\n",
    "        \n",
    "        opened_true_imgs = []\n",
    "        for i in true_imgs:\n",
    "            try:\n",
    "                opened_true_imgs.append(np.asarray(PIL.Image.open(i)))\n",
    "            except:\n",
    "                opened_true_imgs.append(spacer)\n",
    "                print(i)\n",
    "        \n",
    "        # true_imgs = [PIL.Image.open(i) for i in true_imgs]\n",
    "        opened_sample_imgs = []\n",
    "        for i in sample_imgs:\n",
    "            try:\n",
    "                opened_sample_imgs.append(np.asarray(PIL.Image.open(i)))\n",
    "            except:\n",
    "                opened_sample_imgs.append(spacer)\n",
    "                print(i)\n",
    "        # sample_imgs = [PIL.Image.open(i) for i in sample_imgs]\n",
    "        \n",
    "        true_imgs_comb = np.hstack(opened_true_imgs)\n",
    "        sample_imgs_comb = np.hstack(opened_sample_imgs)\n",
    "    \n",
    "    return true_imgs_comb, sample_imgs_comb"
   ]
  },
  {
   "cell_type": "code",
   "execution_count": 16,
   "metadata": {
    "collapsed": false
   },
   "outputs": [
    {
     "name": "stdout",
     "output_type": "stream",
     "text": [
      "../Submissions/CUtIe/final_data_analysis/sim_copula_n50_norm_0_1_rbsp1fdr0.05/graphs/true_corr_true_corr_FN_1.png\n",
      "../Submissions/CUtIe/final_data_analysis/sim_copula_n50_norm_0_1_rbsp1fdr0.05/graphs/sample_corr_true_corr_FN_1.png\n"
     ]
    },
    {
     "ename": "OSError",
     "evalue": "cannot write mode RGBA as JPEG",
     "output_type": "error",
     "traceback": [
      "\u001b[0;31m---------------------------------------------------------------------------\u001b[0m",
      "\u001b[0;31mKeyError\u001b[0m                                  Traceback (most recent call last)",
      "\u001b[0;32m//anaconda/envs/bmi2005/lib/python3.7/site-packages/PIL/JpegImagePlugin.py\u001b[0m in \u001b[0;36m_save\u001b[0;34m(im, fp, filename)\u001b[0m\n\u001b[1;32m    619\u001b[0m     \u001b[0;32mtry\u001b[0m\u001b[0;34m:\u001b[0m\u001b[0;34m\u001b[0m\u001b[0;34m\u001b[0m\u001b[0m\n\u001b[0;32m--> 620\u001b[0;31m         \u001b[0mrawmode\u001b[0m \u001b[0;34m=\u001b[0m \u001b[0mRAWMODE\u001b[0m\u001b[0;34m[\u001b[0m\u001b[0mim\u001b[0m\u001b[0;34m.\u001b[0m\u001b[0mmode\u001b[0m\u001b[0;34m]\u001b[0m\u001b[0;34m\u001b[0m\u001b[0;34m\u001b[0m\u001b[0m\n\u001b[0m\u001b[1;32m    621\u001b[0m     \u001b[0;32mexcept\u001b[0m \u001b[0mKeyError\u001b[0m\u001b[0;34m:\u001b[0m\u001b[0;34m\u001b[0m\u001b[0;34m\u001b[0m\u001b[0m\n",
      "\u001b[0;31mKeyError\u001b[0m: 'RGBA'",
      "\nDuring handling of the above exception, another exception occurred:\n",
      "\u001b[0;31mOSError\u001b[0m                                   Traceback (most recent call last)",
      "\u001b[0;32m<ipython-input-16-19d019b6bc53>\u001b[0m in \u001b[0;36m<module>\u001b[0;34m\u001b[0m\n\u001b[1;32m     39\u001b[0m         \u001b[0mimgs_comb\u001b[0m \u001b[0;34m=\u001b[0m \u001b[0mnp\u001b[0m\u001b[0;34m.\u001b[0m\u001b[0mhstack\u001b[0m\u001b[0;34m(\u001b[0m\u001b[0;34m[\u001b[0m\u001b[0mtrue_imgs_comb\u001b[0m\u001b[0;34m,\u001b[0m \u001b[0mspacer\u001b[0m\u001b[0;34m,\u001b[0m \u001b[0msample_imgs_comb\u001b[0m\u001b[0;34m]\u001b[0m\u001b[0;34m)\u001b[0m\u001b[0;34m\u001b[0m\u001b[0;34m\u001b[0m\u001b[0m\n\u001b[1;32m     40\u001b[0m         \u001b[0mimgs_comb\u001b[0m \u001b[0;34m=\u001b[0m \u001b[0mPIL\u001b[0m\u001b[0;34m.\u001b[0m\u001b[0mImage\u001b[0m\u001b[0;34m.\u001b[0m\u001b[0mfromarray\u001b[0m\u001b[0;34m(\u001b[0m\u001b[0mnp\u001b[0m\u001b[0;34m.\u001b[0m\u001b[0muint8\u001b[0m\u001b[0;34m(\u001b[0m\u001b[0mimgs_comb\u001b[0m\u001b[0;34m)\u001b[0m\u001b[0;34m)\u001b[0m\u001b[0;34m\u001b[0m\u001b[0;34m\u001b[0m\u001b[0m\n\u001b[0;32m---> 41\u001b[0;31m         \u001b[0mimgs_comb\u001b[0m\u001b[0;34m.\u001b[0m\u001b[0msave\u001b[0m\u001b[0;34m(\u001b[0m\u001b[0;34m'../Submissions/CUtIe/final_data_fixed/plot_dist_'\u001b[0m \u001b[0;34m+\u001b[0m \u001b[0mstatistic\u001b[0m \u001b[0;34m+\u001b[0m \u001b[0;34m'_'\u001b[0m \u001b[0;34m+\u001b[0m \u001b[0mdist\u001b[0m \u001b[0;34m+\u001b[0m \u001b[0;34m'.jpg'\u001b[0m\u001b[0;34m)\u001b[0m\u001b[0;34m\u001b[0m\u001b[0;34m\u001b[0m\u001b[0m\n\u001b[0m",
      "\u001b[0;32m//anaconda/envs/bmi2005/lib/python3.7/site-packages/PIL/Image.py\u001b[0m in \u001b[0;36msave\u001b[0;34m(self, fp, format, **params)\u001b[0m\n\u001b[1;32m   1992\u001b[0m \u001b[0;34m\u001b[0m\u001b[0m\n\u001b[1;32m   1993\u001b[0m         \u001b[0;32mtry\u001b[0m\u001b[0;34m:\u001b[0m\u001b[0;34m\u001b[0m\u001b[0;34m\u001b[0m\u001b[0m\n\u001b[0;32m-> 1994\u001b[0;31m             \u001b[0msave_handler\u001b[0m\u001b[0;34m(\u001b[0m\u001b[0mself\u001b[0m\u001b[0;34m,\u001b[0m \u001b[0mfp\u001b[0m\u001b[0;34m,\u001b[0m \u001b[0mfilename\u001b[0m\u001b[0;34m)\u001b[0m\u001b[0;34m\u001b[0m\u001b[0;34m\u001b[0m\u001b[0m\n\u001b[0m\u001b[1;32m   1995\u001b[0m         \u001b[0;32mfinally\u001b[0m\u001b[0;34m:\u001b[0m\u001b[0;34m\u001b[0m\u001b[0;34m\u001b[0m\u001b[0m\n\u001b[1;32m   1996\u001b[0m             \u001b[0;31m# do what we can to clean up\u001b[0m\u001b[0;34m\u001b[0m\u001b[0;34m\u001b[0m\u001b[0;34m\u001b[0m\u001b[0m\n",
      "\u001b[0;32m//anaconda/envs/bmi2005/lib/python3.7/site-packages/PIL/JpegImagePlugin.py\u001b[0m in \u001b[0;36m_save\u001b[0;34m(im, fp, filename)\u001b[0m\n\u001b[1;32m    620\u001b[0m         \u001b[0mrawmode\u001b[0m \u001b[0;34m=\u001b[0m \u001b[0mRAWMODE\u001b[0m\u001b[0;34m[\u001b[0m\u001b[0mim\u001b[0m\u001b[0;34m.\u001b[0m\u001b[0mmode\u001b[0m\u001b[0;34m]\u001b[0m\u001b[0;34m\u001b[0m\u001b[0;34m\u001b[0m\u001b[0m\n\u001b[1;32m    621\u001b[0m     \u001b[0;32mexcept\u001b[0m \u001b[0mKeyError\u001b[0m\u001b[0;34m:\u001b[0m\u001b[0;34m\u001b[0m\u001b[0;34m\u001b[0m\u001b[0m\n\u001b[0;32m--> 622\u001b[0;31m         \u001b[0;32mraise\u001b[0m \u001b[0mIOError\u001b[0m\u001b[0;34m(\u001b[0m\u001b[0;34m\"cannot write mode %s as JPEG\"\u001b[0m \u001b[0;34m%\u001b[0m \u001b[0mim\u001b[0m\u001b[0;34m.\u001b[0m\u001b[0mmode\u001b[0m\u001b[0;34m)\u001b[0m\u001b[0;34m\u001b[0m\u001b[0;34m\u001b[0m\u001b[0m\n\u001b[0m\u001b[1;32m    623\u001b[0m \u001b[0;34m\u001b[0m\u001b[0m\n\u001b[1;32m    624\u001b[0m     \u001b[0minfo\u001b[0m \u001b[0;34m=\u001b[0m \u001b[0mim\u001b[0m\u001b[0;34m.\u001b[0m\u001b[0mencoderinfo\u001b[0m\u001b[0;34m\u001b[0m\u001b[0;34m\u001b[0m\u001b[0m\n",
      "\u001b[0;31mOSError\u001b[0m: cannot write mode RGBA as JPEG"
     ]
    }
   ],
   "source": [
    "distributions = ['sim_copula_n50_norm_0_1', \n",
    "                 'sim_copula_n50_gamma_1_0_100',\n",
    "                 'sim_copula_n50_lognorm_3_0',\n",
    "                 'sim_zero_infl_otu_copula_n50_lognorm_3_0']\n",
    "\n",
    "# for each statistic\n",
    "for statistic in stat_df['statistic'].values:\n",
    "    # statistic = 'pearson'\n",
    "    subset_df = stat_df.set_index('statistic').loc[statistic,:]\n",
    "    rev_subset_df = rev_stat_df.set_index('statistic').loc[statistic,:]\n",
    "\n",
    "    # for each distribution\n",
    "    for dist in distributions:\n",
    "        # dist = 'sim_copula_n50_norm_0_1'\n",
    "\n",
    "        # for each of the 4 metrics\n",
    "        # gather all four metrics in order TP, FP, TN, FN\n",
    "        # do for true and do for sample (separate images)\n",
    "\n",
    "        # cuties\n",
    "        true_ct_imgs_comb, sample_ct_imgs_comb = create_img(dist, subset_df, rev_subset_df, 'cutie')\n",
    "\n",
    "        #jk_imgs\n",
    "        true_jk_imgs_comb, sample_jk_imgs_comb = create_img(dist, subset_df, rev_subset_df, 'jackknifing')\n",
    "\n",
    "        #bs_imgs\n",
    "        true_bs_imgs_comb, sample_bs_imgs_comb = create_img(dist, subset_df, rev_subset_df, 'bootstrapping')\n",
    "\n",
    "        #cd_imgs \n",
    "        true_cd_imgs_comb, sample_cd_imgs_comb = create_img(dist, subset_df, rev_subset_df, 'cooks_d')\n",
    "\n",
    "        # combine images\n",
    "        true_imgs_comb = np.vstack([true_ct_imgs_comb, true_jk_imgs_comb, true_bs_imgs_comb, true_cd_imgs_comb])\n",
    "        sample_imgs_comb = np.vstack([sample_ct_imgs_comb, sample_jk_imgs_comb, sample_bs_imgs_comb, sample_cd_imgs_comb])\n",
    "\n",
    "        # insert spacing of same height but 1/8th the width\n",
    "        spacer = np.ones(shape=[true_imgs_comb.shape[0], int(true_imgs_comb.shape[1]/8),4]) * 255\n",
    "\n",
    "        imgs_comb = np.hstack([true_imgs_comb, spacer, sample_imgs_comb])\n",
    "        imgs_comb = PIL.Image.fromarray(np.uint8(imgs_comb))\n",
    "        imgs_comb.save('../Submissions/CUtIe/final_data_fixed/plot_dist_' + statistic + '_' + dist + '.png') "
   ]
  },
  {
   "cell_type": "code",
   "execution_count": 15,
   "metadata": {
    "collapsed": true
   },
   "outputs": [
    {
     "data": {
      "text/plain": [
       "array([[[1., 1., 1., 1.],\n",
       "        [1., 1., 1., 1.],\n",
       "        [1., 1., 1., 1.],\n",
       "        [1., 1., 1., 1.]]])"
      ]
     },
     "execution_count": 15,
     "metadata": {},
     "output_type": "execute_result"
    }
   ],
   "source": [
    "np.ones(shape = [1,int(12/3),4])"
   ]
  },
  {
   "cell_type": "code",
   "execution_count": null,
   "metadata": {},
   "outputs": [],
   "source": []
  }
 ],
 "metadata": {
  "kernelspec": {
   "display_name": "Python 3",
   "language": "python",
   "name": "python3"
  },
  "language_info": {
   "codemirror_mode": {
    "name": "ipython",
    "version": 3
   },
   "file_extension": ".py",
   "mimetype": "text/x-python",
   "name": "python",
   "nbconvert_exporter": "python",
   "pygments_lexer": "ipython3",
   "version": "3.7.2"
  }
 },
 "nbformat": 4,
 "nbformat_minor": 2
}
