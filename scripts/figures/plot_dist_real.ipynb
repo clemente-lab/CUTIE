{
 "cells": [
  {
   "cell_type": "code",
   "execution_count": 1,
   "metadata": {
    "collapsed": false
   },
   "outputs": [],
   "source": [
    "import pandas as pd\n",
    "import os.path\n",
    "import numpy as np\n",
    "import PIL\n",
    "from PIL import Image"
   ]
  },
  {
   "cell_type": "code",
   "execution_count": 2,
   "metadata": {
    "collapsed": false
   },
   "outputs": [
    {
     "data": {
      "text/html": [
       "<div>\n",
       "<style scoped>\n",
       "    .dataframe tbody tr th:only-of-type {\n",
       "        vertical-align: middle;\n",
       "    }\n",
       "\n",
       "    .dataframe tbody tr th {\n",
       "        vertical-align: top;\n",
       "    }\n",
       "\n",
       "    .dataframe thead th {\n",
       "        text-align: right;\n",
       "    }\n",
       "</style>\n",
       "<table border=\"1\" class=\"dataframe\">\n",
       "  <thead>\n",
       "    <tr style=\"text-align: right;\">\n",
       "      <th></th>\n",
       "      <th>statistic</th>\n",
       "      <th>lungc</th>\n",
       "      <th>hdac</th>\n",
       "      <th>who</th>\n",
       "    </tr>\n",
       "  </thead>\n",
       "  <tbody>\n",
       "    <tr>\n",
       "      <th>0</th>\n",
       "      <td>pearson</td>\n",
       "      <td>lungc_kpc</td>\n",
       "      <td>hdac_kpc</td>\n",
       "      <td>WHO_kpc</td>\n",
       "    </tr>\n",
       "    <tr>\n",
       "      <th>1</th>\n",
       "      <td>spearman</td>\n",
       "      <td>lungc_ksc</td>\n",
       "      <td>hdac_ksc</td>\n",
       "      <td>WHO_ksc</td>\n",
       "    </tr>\n",
       "    <tr>\n",
       "      <th>2</th>\n",
       "      <td>kendall</td>\n",
       "      <td>lungc_kkc</td>\n",
       "      <td>hdac_kkc</td>\n",
       "      <td>WHO_kkc</td>\n",
       "    </tr>\n",
       "    <tr>\n",
       "      <th>3</th>\n",
       "      <td>mine</td>\n",
       "      <td>lungc_mine</td>\n",
       "      <td>hdac_mine</td>\n",
       "      <td>WHO_mine</td>\n",
       "    </tr>\n",
       "  </tbody>\n",
       "</table>\n",
       "</div>"
      ],
      "text/plain": [
       "  statistic       lungc       hdac       who\n",
       "0   pearson   lungc_kpc   hdac_kpc   WHO_kpc\n",
       "1  spearman   lungc_ksc   hdac_ksc   WHO_ksc\n",
       "2   kendall   lungc_kkc   hdac_kkc   WHO_kkc\n",
       "3      mine  lungc_mine  hdac_mine  WHO_mine"
      ]
     },
     "execution_count": 2,
     "metadata": {},
     "output_type": "execute_result"
    }
   ],
   "source": [
    "os.chdir('/Users/KevinBu/Desktop/clemente_lab/CUTIE/')\n",
    "stat_df = pd.read_csv('scripts/stat_dict_real.txt', sep = '\\t')\n",
    "rev_stat_df = pd.read_csv('scripts/rev_stat_dict_real.txt', sep = '\\t')\n",
    "stat_df.head()"
   ]
  },
  {
   "cell_type": "code",
   "execution_count": 3,
   "metadata": {
    "collapsed": true
   },
   "outputs": [],
   "source": [
    "def create_img(label, rev_label):\n",
    "    # define image names\n",
    "    spacer = np.ones(shape=[480,640,4]) * 255\n",
    "    for_img_list = ['sample_corr_false_corr_FP_1.png', 'sample_corr_true_corr_TP_1.png']\n",
    "\n",
    "    rev_img_list = ['sample_corr_false_corr_TN_1.png', 'sample_corr_true_corr_FN_1.png']\n",
    "\n",
    "    for_dir_path = '../Submissions/CUtIe/final_data_fixed/cutie_' + label + '1fdr0.05/graphs/'\n",
    "    rev_dir_path = '../Submissions/CUtIe/final_data_fixed/cutie_' + rev_label + '1fdr0.05/graphs/'\n",
    "\n",
    "    rev_list = [rev_dir_path + x for x in rev_img_list] # TN, FN, TN, FN\n",
    "    for_list = [for_dir_path + x for x in for_img_list] # FP, TP, FP, TP\n",
    "\n",
    "    sample_imgs = [for_list[1], for_list[0], rev_list[0], rev_list[1]]\n",
    "\n",
    "    opened_sample_imgs = []\n",
    "    for i in sample_imgs:\n",
    "        try:\n",
    "            opened_sample_imgs.append(np.asarray(PIL.Image.open(i)))\n",
    "        except:\n",
    "            opened_sample_imgs.append(spacer)\n",
    "            print(i)\n",
    "\n",
    "    sample_imgs_comb = np.hstack(opened_sample_imgs)\n",
    "    \n",
    "    return sample_imgs_comb"
   ]
  },
  {
   "cell_type": "code",
   "execution_count": 4,
   "metadata": {
    "collapsed": false
   },
   "outputs": [],
   "source": [
    "statistics = stat_df['statistic'].values\n",
    "\n",
    "# for each dataset\n",
    "for dataset in stat_df.columns.values[1:4]:\n",
    "    # statistic = 'pearson'\n",
    "    subset_df = stat_df.set_index('statistic').loc[:,dataset]\n",
    "    rev_subset_df = rev_stat_df.set_index('statistic').loc[:,dataset]\n",
    "    \n",
    "    # for each stat\n",
    "\n",
    "    # for each of the 4 metrics\n",
    "    # gather all four metrics in order TP, FP, TN, FN\n",
    "    # do for true and do for sample (separate images)\n",
    "\n",
    "    # pearson\n",
    "    sample_pc_imgs_comb = create_img(subset_df.loc['pearson'], rev_subset_df.loc['pearson'])\n",
    "\n",
    "    # spearman\n",
    "    sample_sc_imgs_comb = create_img(subset_df.loc['spearman'], rev_subset_df.loc['spearman'])\n",
    "\n",
    "    # kendall\n",
    "    sample_kc_imgs_comb = create_img(subset_df.loc['kendall'], rev_subset_df.loc['kendall'])\n",
    "\n",
    "    # mine \n",
    "    sample_mine_imgs_comb = create_img(subset_df.loc['mine'], rev_subset_df.loc['mine'])\n",
    "\n",
    "    # combine images\n",
    "    sample_imgs_comb = np.vstack([sample_pc_imgs_comb, sample_sc_imgs_comb, sample_kc_imgs_comb, sample_mine_imgs_comb])\n",
    "\n",
    "    # insert spacing of same height but 1/8th the width\n",
    "    imgs_comb = PIL.Image.fromarray(np.uint8(sample_imgs_comb))\n",
    "    imgs_comb.save('../Submissions/CUtIe/final_data_fixed/plot_dist_real_' + dataset + '.png') "
   ]
  },
  {
   "cell_type": "code",
   "execution_count": null,
   "metadata": {
    "collapsed": true
   },
   "outputs": [],
   "source": []
  }
 ],
 "metadata": {
  "kernelspec": {
   "display_name": "Python 3",
   "language": "python",
   "name": "python3"
  },
  "language_info": {
   "codemirror_mode": {
    "name": "ipython",
    "version": 3
   },
   "file_extension": ".py",
   "mimetype": "text/x-python",
   "name": "python",
   "nbconvert_exporter": "python",
   "pygments_lexer": "ipython3",
   "version": "3.7.2"
  }
 },
 "nbformat": 4,
 "nbformat_minor": 2
}
